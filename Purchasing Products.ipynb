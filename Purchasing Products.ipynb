{
 "cells": [
  {
   "cell_type": "markdown",
   "id": "c239e370",
   "metadata": {},
   "source": [
    "Read inventory"
   ]
  },
  {
   "cell_type": "code",
   "execution_count": 1,
   "id": "6385901a",
   "metadata": {},
   "outputs": [],
   "source": [
    "import json"
   ]
  },
  {
   "cell_type": "code",
   "execution_count": 2,
   "id": "da9a458d",
   "metadata": {},
   "outputs": [],
   "source": [
    "fd=open(\"stuff.json\",'r')\n",
    "r=fd.read()\n",
    "fd.close()\n",
    "stuff=json.loads(r)"
   ]
  },
  {
   "cell_type": "code",
   "execution_count": 3,
   "id": "e4ae28e2",
   "metadata": {},
   "outputs": [
    {
     "data": {
      "text/plain": [
       "{'101': {'name': 'chocolates',\n",
       "  'price': '20',\n",
       "  'quantity': '50',\n",
       "  'discount': '2',\n",
       "  'expirydate': '22-10-2022'},\n",
       " '102': {'name': 'drinks',\n",
       "  'price': '48',\n",
       "  'quantity': '25',\n",
       "  'discount': '10',\n",
       "  'expirydate': '02-01-2023'},\n",
       " '103': {'name': 'Cake',\n",
       "  'price': '40',\n",
       "  'quantity': '75',\n",
       "  'discount': '12',\n",
       "  'expirydate': '25-04-2022'},\n",
       " '104': {'name': 'Bread',\n",
       "  'price': '30',\n",
       "  'quantity': '15',\n",
       "  'discount': '1',\n",
       "  'expirydate': '18-11-2021'},\n",
       " '105': {'name': 'Belgian Waffle',\n",
       "  'price': '50',\n",
       "  'quantity': '18',\n",
       "  'discount': '0',\n",
       "  'expirydate': '28-12-2023'},\n",
       " '106': {'name': 'Waffle Cone Premix',\n",
       "  'price': '48',\n",
       "  'quantity': '25',\n",
       "  'discount': '2',\n",
       "  'expirydate': '22-10-2022'},\n",
       " '107': {'name': 'Pastry',\n",
       "  'price': '45',\n",
       "  'quantity': '40',\n",
       "  'discount': '8',\n",
       "  'expirydate': '29-06-2021'},\n",
       " '108': {'name': 'Ice Cream ',\n",
       "  'price': '15',\n",
       "  'quantity': '65',\n",
       "  'discount': '13',\n",
       "  'expirydate': '27-08-2022'},\n",
       " '109': {'name': 'Muffins',\n",
       "  'price': '60',\n",
       "  'quantity': '90',\n",
       "  'discount': '2',\n",
       "  'expirydate': '23-01-2021'},\n",
       " '110': {'name': 'biscuits',\n",
       "  'price': '28',\n",
       "  'quantity': '125',\n",
       "  'discount': '7',\n",
       "  'expirydate': '10--2022'},\n",
       " '111': {'name': 'choco chips',\n",
       "  'price': '29',\n",
       "  'quantity': '55',\n",
       "  'discount': '6',\n",
       "  'expirydate': '18-08-2023'},\n",
       " '112': {'name': 'Buns',\n",
       "  'price': '13',\n",
       "  'quantity': '25',\n",
       "  'discount': '0',\n",
       "  'expirydate': '02-09-2024'},\n",
       " '113': {'name': 'dark fudge',\n",
       "  'price': '38',\n",
       "  'quantity': '75',\n",
       "  'discount': '2',\n",
       "  'expirydate': '19-04-2022'},\n",
       " '114': {'name': ' pizza',\n",
       "  'price': '165',\n",
       "  'quantity': '55',\n",
       "  'discount': '12',\n",
       "  'expirydate': '26-05-2023'},\n",
       " '115': {'name': ' loaf breads',\n",
       "  'price': '18',\n",
       "  'quantity': '35',\n",
       "  'discount': '0',\n",
       "  'expirydate': '16-17-2025'},\n",
       " '116': {'name': 'sweet rolls',\n",
       "  'price': '58',\n",
       "  'quantity': '75',\n",
       "  'discount': '0',\n",
       "  'expirydate': '26-08-2023'},\n",
       " '117': {'name': 'cinnamon rolls ',\n",
       "  'price': '75',\n",
       "  'quantity': '45',\n",
       "  'discount': '9',\n",
       "  'expirydate': '29-12-2021'},\n",
       " '118': {'name': 'Doughnuts',\n",
       "  'price': '80',\n",
       "  'quantity': '22',\n",
       "  'discount': '8',\n",
       "  'expirydate': '05-10-2020'},\n",
       " '119': {'name': 'Pies',\n",
       "  'price': '38',\n",
       "  'quantity': '51',\n",
       "  'discount': '5',\n",
       "  'expirydate': '24-02-2022'},\n",
       " '120': {'name': 'chewing gums',\n",
       "  'price': '15',\n",
       "  'quantity': '32',\n",
       "  'discount': '0',\n",
       "  'expirydate': '22-02-2022'},\n",
       " '121': {'name': 'whipping cream',\n",
       "  'price': '105',\n",
       "  'quantity': '24',\n",
       "  'discount': '10',\n",
       "  'expirydate': '15-07-2023'},\n",
       " '122': {'name': 'toffees',\n",
       "  'price': '90',\n",
       "  'quantity': '34',\n",
       "  'discount': '0',\n",
       "  'expirydate': '22-10-2022'},\n",
       " '123': {'name': 'peanut butter',\n",
       "  'price': '110',\n",
       "  'quantity': '19',\n",
       "  'discount': '0',\n",
       "  'expirydate': '16-04-2022'},\n",
       " '124': {'name': 'candies',\n",
       "  'price': '48',\n",
       "  'quantity': '125',\n",
       "  'discount': '4',\n",
       "  'expirydate': '25-11-2023'},\n",
       " '125': {'name': 'milkshake',\n",
       "  'price': '20',\n",
       "  'quantity': '14',\n",
       "  'discount': '2',\n",
       "  'expirydate': '23-05-2024'},\n",
       " '126': {'name': 'rusk toast',\n",
       "  'price': '30',\n",
       "  'quantity': '23',\n",
       "  'discount': '6',\n",
       "  'expirydate': '06-03-2021'},\n",
       " '127': {'name': 'caramel',\n",
       "  'price': '35',\n",
       "  'quantity': '52',\n",
       "  'discount': '0',\n",
       "  'expirydate': '15-10-2022'},\n",
       " '128': {'name': 'butter milk',\n",
       "  'price': '27',\n",
       "  'quantity': '20',\n",
       "  'discount': '1',\n",
       "  'expirydate': '29-06-2022'},\n",
       " '129': {'name': 'pastry',\n",
       "  'price': '55',\n",
       "  'quantity': '85',\n",
       "  'discount': '6',\n",
       "  'expirydate': '14-10-2022'},\n",
       " '130': {'name': 'ice gola',\n",
       "  'price': '44',\n",
       "  'quantity': '25',\n",
       "  'discount': '0',\n",
       "  'expirydate': '11-01-2021'}}"
      ]
     },
     "execution_count": 3,
     "metadata": {},
     "output_type": "execute_result"
    }
   ],
   "source": [
    "stuff"
   ]
  },
  {
   "cell_type": "markdown",
   "id": "009348fa",
   "metadata": {},
   "source": [
    "purchase"
   ]
  },
  {
   "cell_type": "code",
   "execution_count": 153,
   "id": "8f0a5b1a",
   "metadata": {
    "scrolled": true
   },
   "outputs": [
    {
     "name": "stdout",
     "output_type": "stream",
     "text": [
      "enter the product_id:125\n",
      "enter the quantity:5\n",
      " product name milkshake\n",
      "price: 20\n",
      "discount: 2\n",
      "discount_Amount: 0.4\n",
      "final_Amount: 19.6\n",
      "billing Amount: 98.0\n"
     ]
    }
   ],
   "source": [
    "ui_prod=str(input(\"enter the product_id:\"))\n",
    "ui_quant=int(input(\"enter the quantity:\"))\n",
    "print(\" product name\",stuff[ui_prod]['name'])\n",
    "print(\"price:\",stuff[ui_prod]['price'])\n",
    "print(\"discount:\",stuff[ui_prod]['discount'])\n",
    "discount_Amount=int(stuff[ui_prod]['price'])*float(stuff[ui_prod]['discount'])/100\n",
    "print(\"discount_Amount:\",discount_Amount)\n",
    "final_Amount=int(stuff[ui_Prod]['price'])-  discount_Amount\n",
    "print(\"final_Amount:\",final_Amount)\n",
    "print(\"billing Amount:\", final_Amount*ui_quant)\n",
    "stuff[ui_prod]['quantity' ]=int(stuff[ui_prod]['quantity'])-  ui_quant\n",
    "\n",
    "\n",
    "\n",
    "\n",
    "\n",
    "\n",
    "\n"
   ]
  },
  {
   "cell_type": "code",
   "execution_count": 154,
   "id": "0fc44f9c",
   "metadata": {},
   "outputs": [
    {
     "data": {
      "text/plain": [
       "{'101': {'name': 'chocolates',\n",
       "  'price': '20',\n",
       "  'quantity': '50',\n",
       "  'discount': '2',\n",
       "  'expirydate': '22-10-2022'},\n",
       " '102': {'name': 'drinks',\n",
       "  'price': '48',\n",
       "  'quantity': '25',\n",
       "  'discount': '10',\n",
       "  'expirydate': '02-01-2023'},\n",
       " '103': {'name': 'Cake',\n",
       "  'price': '40',\n",
       "  'quantity': '75',\n",
       "  'discount': '12',\n",
       "  'expirydate': '25-04-2022'},\n",
       " '104': {'name': 'Bread',\n",
       "  'price': '30',\n",
       "  'quantity': '15',\n",
       "  'discount': '1',\n",
       "  'expirydate': '18-11-2021'},\n",
       " '105': {'name': 'Belgian Waffle',\n",
       "  'price': '50',\n",
       "  'quantity': '18',\n",
       "  'discount': '0',\n",
       "  'expirydate': '28-12-2023'},\n",
       " '106': {'name': 'Waffle Cone Premix',\n",
       "  'price': '48',\n",
       "  'quantity': '25',\n",
       "  'discount': '2',\n",
       "  'expirydate': '22-10-2022'},\n",
       " '107': {'name': 'Pastry',\n",
       "  'price': '45',\n",
       "  'quantity': '40',\n",
       "  'discount': '8',\n",
       "  'expirydate': '29-06-2021'},\n",
       " '108': {'name': 'Ice Cream ',\n",
       "  'price': '15',\n",
       "  'quantity': '65',\n",
       "  'discount': '13',\n",
       "  'expirydate': '27-08-2022'},\n",
       " '109': {'name': 'Muffins',\n",
       "  'price': '60',\n",
       "  'quantity': 84,\n",
       "  'discount': '2',\n",
       "  'expirydate': '23-01-2021'},\n",
       " '110': {'name': 'biscuits',\n",
       "  'price': '28',\n",
       "  'quantity': '125',\n",
       "  'discount': '7',\n",
       "  'expirydate': '10--2022'},\n",
       " '111': {'name': 'choco chips',\n",
       "  'price': '29',\n",
       "  'quantity': 38,\n",
       "  'discount': '6',\n",
       "  'expirydate': '18-08-2023'},\n",
       " '112': {'name': 'Buns',\n",
       "  'price': '13',\n",
       "  'quantity': '25',\n",
       "  'discount': '0',\n",
       "  'expirydate': '02-09-2024'},\n",
       " '113': {'name': 'dark fudge',\n",
       "  'price': '38',\n",
       "  'quantity': '75',\n",
       "  'discount': '2',\n",
       "  'expirydate': '19-04-2022'},\n",
       " '114': {'name': ' pizza',\n",
       "  'price': '165',\n",
       "  'quantity': '55',\n",
       "  'discount': '12',\n",
       "  'expirydate': '26-05-2023'},\n",
       " '115': {'name': ' loaf breads',\n",
       "  'price': '18',\n",
       "  'quantity': 28,\n",
       "  'discount': '0',\n",
       "  'expirydate': '16-17-2025'},\n",
       " '116': {'name': 'sweet rolls',\n",
       "  'price': '58',\n",
       "  'quantity': '75',\n",
       "  'discount': '0',\n",
       "  'expirydate': '26-08-2023'},\n",
       " '117': {'name': 'cinnamon rolls ',\n",
       "  'price': '75',\n",
       "  'quantity': '45',\n",
       "  'discount': '9',\n",
       "  'expirydate': '29-12-2021'},\n",
       " '118': {'name': 'Doughnuts',\n",
       "  'price': '80',\n",
       "  'quantity': 15,\n",
       "  'discount': '8',\n",
       "  'expirydate': '05-10-2020'},\n",
       " '119': {'name': 'Pies',\n",
       "  'price': '38',\n",
       "  'quantity': '51',\n",
       "  'discount': '5',\n",
       "  'expirydate': '24-02-2022'},\n",
       " '120': {'name': 'chewing gums',\n",
       "  'price': '15',\n",
       "  'quantity': 7,\n",
       "  'discount': '0',\n",
       "  'expirydate': '22-02-2022'},\n",
       " '121': {'name': 'whipping cream',\n",
       "  'price': '105',\n",
       "  'quantity': '24',\n",
       "  'discount': '10',\n",
       "  'expirydate': '15-07-2023'},\n",
       " '122': {'name': 'toffees',\n",
       "  'price': '90',\n",
       "  'quantity': '34',\n",
       "  'discount': '0',\n",
       "  'expirydate': '22-10-2022'},\n",
       " '123': {'name': 'peanut butter',\n",
       "  'price': '110',\n",
       "  'quantity': -19,\n",
       "  'discount': '0',\n",
       "  'expirydate': '16-04-2022'},\n",
       " '124': {'name': 'candies',\n",
       "  'price': '48',\n",
       "  'quantity': '125',\n",
       "  'discount': '4',\n",
       "  'expirydate': '25-11-2023'},\n",
       " '125': {'name': 'milkshake',\n",
       "  'price': '20',\n",
       "  'quantity': 4,\n",
       "  'discount': '2',\n",
       "  'expirydate': '23-05-2024'},\n",
       " '126': {'name': 'rusk toast',\n",
       "  'price': '30',\n",
       "  'quantity': '23',\n",
       "  'discount': '6',\n",
       "  'expirydate': '06-03-2021'},\n",
       " '127': {'name': 'caramel',\n",
       "  'price': '35',\n",
       "  'quantity': '52',\n",
       "  'discount': '0',\n",
       "  'expirydate': '15-10-2022'},\n",
       " '128': {'name': 'butter milk',\n",
       "  'price': '27',\n",
       "  'quantity': '20',\n",
       "  'discount': '1',\n",
       "  'expirydate': '29-06-2022'},\n",
       " '129': {'name': 'pastry',\n",
       "  'price': '55',\n",
       "  'quantity': '85',\n",
       "  'discount': '6',\n",
       "  'expirydate': '14-10-2022'},\n",
       " '130': {'name': 'ice gola',\n",
       "  'price': '44',\n",
       "  'quantity': 17,\n",
       "  'discount': '0',\n",
       "  'expirydate': '11-01-2021'}}"
      ]
     },
     "execution_count": 154,
     "metadata": {},
     "output_type": "execute_result"
    }
   ],
   "source": [
    "stuff"
   ]
  },
  {
   "cell_type": "markdown",
   "id": "d887b921",
   "metadata": {},
   "source": [
    "update inventory after purchase"
   ]
  },
  {
   "cell_type": "code",
   "execution_count": 146,
   "id": "4d8c8006",
   "metadata": {},
   "outputs": [],
   "source": [
    "js=json.dumps(stuff)\n",
    "fd=open(\"stuff.json\",'w')\n",
    "fd.write(js)\n",
    "fd.close()\n"
   ]
  },
  {
   "cell_type": "markdown",
   "id": "4e4da16c",
   "metadata": {},
   "source": [
    "sales json"
   ]
  },
  {
   "cell_type": "code",
   "execution_count": 123,
   "id": "3ea48c06",
   "metadata": {},
   "outputs": [],
   "source": [
    "sales={1:{'prod':ui_prod,'quantity':ui_quant,'billing Amount':final_Amount*ui_quant},\n",
    "      2:{'prod':ui_prod,'quantity':ui_quant,'billing Amount':final_Amount*ui_quant},\n",
    "      3:{'prod':ui_prod,'quantity':ui_quant,'billing Amount':final_Amount*ui_quant},\n",
    "      4:{'prod':ui_prod,'quantity':ui_quant,'billing Amount':final_Amount*ui_quant},\n",
    "      5:{'prod':ui_prod,'quantity':ui_quant,'billing Amount':final_Amount*ui_quant}}"
   ]
  },
  {
   "cell_type": "code",
   "execution_count": 101,
   "id": "9898bc0c",
   "metadata": {},
   "outputs": [
    {
     "data": {
      "text/plain": [
       "'{\"1\": {\"prod\": \"130\", \"quantity\": 8, \"billing Amount\": 160.0}, \"2\": {\"prod\": \"130\", \"quantity\": 8, \"billing Amount\": 160.0}, \"3\": {\"prod\": \"130\", \"quantity\": 8, \"billing Amount\": 160.0}, \"4\": {\"prod\": \"130\", \"quantity\": 8, \"billing Amount\": 160.0}, \"5\": {\"prod\": \"130\", \"quantity\": 8, \"billing Amount\": 160.0}}'"
      ]
     },
     "execution_count": 101,
     "metadata": {},
     "output_type": "execute_result"
    }
   ],
   "source": [
    "json.dumps(sales)"
   ]
  },
  {
   "cell_type": "code",
   "execution_count": 113,
   "id": "8d3e2d1e",
   "metadata": {},
   "outputs": [],
   "source": [
    "fd=open(\"stuff.json\",'r')\n",
    "r=fd.read()\n",
    "fd.close()"
   ]
  },
  {
   "cell_type": "code",
   "execution_count": 155,
   "id": "36cea232",
   "metadata": {},
   "outputs": [
    {
     "data": {
      "text/plain": [
       "{9: {'Prod': '101', 'quantity': 5, 'billing Amount': 98.0}}"
      ]
     },
     "execution_count": 155,
     "metadata": {},
     "output_type": "execute_result"
    }
   ],
   "source": [
    "{(len(sales)+1):{'Prod' :ui_Prod,'quantity':ui_quant,'billing Amount':final_Amount*ui_quant}}"
   ]
  },
  {
   "cell_type": "code",
   "execution_count": 157,
   "id": "7731dc2d",
   "metadata": {},
   "outputs": [],
   "source": [
    "sales[len(sales)+1]={'Prod' :ui_Prod,'quantity':ui_quant,'billing Amount':final_Amount*ui_quant}"
   ]
  },
  {
   "cell_type": "code",
   "execution_count": 158,
   "id": "dee8213e",
   "metadata": {},
   "outputs": [
    {
     "data": {
      "text/plain": [
       "{1: {'prod': '120', 'quantity': 8, 'billing Amount': 160.0},\n",
       " 2: {'prod': '120', 'quantity': 8, 'billing Amount': 160.0},\n",
       " 3: {'prod': '120', 'quantity': 8, 'billing Amount': 160.0},\n",
       " 4: {'prod': '120', 'quantity': 8, 'billing Amount': 160.0},\n",
       " 5: {'prod': '120', 'quantity': 8, 'billing Amount': 160.0},\n",
       " 6: {'Prod': '101', 'quantity': 8, 'billing Amount': 160.0},\n",
       " 7: {'Prod': '101', 'quantity': 6, 'billing Amount': 112.80000000000001},\n",
       " 8: {'Prod': '101', 'quantity': 7, 'billing Amount': 95.2},\n",
       " 9: {'Prod': '101', 'quantity': 5, 'billing Amount': 98.0},\n",
       " 10: {'Prod': '101', 'quantity': 5, 'billing Amount': 98.0}}"
      ]
     },
     "execution_count": 158,
     "metadata": {},
     "output_type": "execute_result"
    }
   ],
   "source": [
    "sales"
   ]
  },
  {
   "cell_type": "code",
   "execution_count": 160,
   "id": "9274f40e",
   "metadata": {},
   "outputs": [],
   "source": [
    "sale=json.dumps(sales)"
   ]
  },
  {
   "cell_type": "code",
   "execution_count": 162,
   "id": "032331ab",
   "metadata": {},
   "outputs": [
    {
     "data": {
      "text/plain": [
       "'{\"1\": {\"prod\": \"120\", \"quantity\": 8, \"billing Amount\": 160.0}, \"2\": {\"prod\": \"120\", \"quantity\": 8, \"billing Amount\": 160.0}, \"3\": {\"prod\": \"120\", \"quantity\": 8, \"billing Amount\": 160.0}, \"4\": {\"prod\": \"120\", \"quantity\": 8, \"billing Amount\": 160.0}, \"5\": {\"prod\": \"120\", \"quantity\": 8, \"billing Amount\": 160.0}, \"6\": {\"Prod\": \"101\", \"quantity\": 8, \"billing Amount\": 160.0}, \"7\": {\"Prod\": \"101\", \"quantity\": 6, \"billing Amount\": 112.80000000000001}, \"8\": {\"Prod\": \"101\", \"quantity\": 7, \"billing Amount\": 95.2}, \"9\": {\"Prod\": \"101\", \"quantity\": 5, \"billing Amount\": 98.0}, \"10\": {\"Prod\": \"101\", \"quantity\": 5, \"billing Amount\": 98.0}}'"
      ]
     },
     "execution_count": 162,
     "metadata": {},
     "output_type": "execute_result"
    }
   ],
   "source": [
    "sale"
   ]
  },
  {
   "cell_type": "code",
   "execution_count": 163,
   "id": "fef900c6",
   "metadata": {},
   "outputs": [],
   "source": [
    "fd=open(\"sales.json\",'w')\n",
    "r=fd.write(sale)\n",
    "fd.close()"
   ]
  },
  {
   "cell_type": "code",
   "execution_count": null,
   "id": "1bf1b853",
   "metadata": {},
   "outputs": [],
   "source": []
  }
 ],
 "metadata": {
  "kernelspec": {
   "display_name": "Python 3",
   "language": "python",
   "name": "python3"
  },
  "language_info": {
   "codemirror_mode": {
    "name": "ipython",
    "version": 3
   },
   "file_extension": ".py",
   "mimetype": "text/x-python",
   "name": "python",
   "nbconvert_exporter": "python",
   "pygments_lexer": "ipython3",
   "version": "3.8.8"
  }
 },
 "nbformat": 4,
 "nbformat_minor": 5
}
